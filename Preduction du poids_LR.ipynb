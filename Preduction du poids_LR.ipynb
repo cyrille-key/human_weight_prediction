{
 "cells": [
  {
   "cell_type": "markdown",
   "metadata": {},
   "source": [
    "<h1 style=\"color:Maroon; text-align:center\">Projet : Prediction du poids de patient</h1>\n",
    "\n",
    "\n"
   ]
  },
  {
   "cell_type": "code",
   "execution_count": 2,
   "metadata": {},
   "outputs": [],
   "source": [
    "import numpy as np\n",
    "from sklearn.datasets import make_regression\n",
    "import matplotlib.pyplot as plt\n",
    "import pandas as pd"
   ]
  },
  {
   "cell_type": "markdown",
   "metadata": {},
   "source": [
    "<h1 style=\"color:Maroon;\">1. Dataset presentation</h1>\n",
    "\n",
    "> Le present dataset contient les indices corporels des individus , patients et non patients d'une des province de la RDC. avant netoyage de données, le dataset était très sale avec beaucoup des données manquantes sur certaines collones qu'on a juger non informatifs. J'ai extrais 7 variables informatives necessaire pour construire un model predictif à partir d'un echantillion de 1744 individus observés. données extraite depuis 2017.\n",
    "\n",
    "<h3 style=\"color:Maroon;\">Description des varibles:</h3>\n",
    "\n",
    ">- Age: l'age de l'idividu\n",
    "- sexe: sexe de l'ividu\n",
    "- taille_CM: taille de l'individu en centimettre \n",
    "- Taille_M: taille de l'individu en mettre\n",
    "- BodyMasseIdex_MI: l'idice de masse corporel \n",
    "- poids_KG: le poids réel de l'individu en KG\n",
    "- Contour: le contour abdominal du patient\n",
    "\n",
    ">NB: le BodyMasseIdex_MI , pour indice de masse corporel est obtenu pour le cas general par la fomule: <span style=\"color:red\"> $\\frac{poids(kg)}{taille(m^2)}$ </span>, selon wikipedia: L'Organisation mondiale de la santé (OMS) a défini en 1997 cet indice de masse corporelle comme le standard pour évaluer les risques liés au surpoids chez l’adulte. Elle a également défini des intervalles standards (maigreur, indice normal, surpoids, obésité) en se basant sur la relation constatée statistiquement entre l'IMC et le taux de mortalité. \n",
    "Dans notre model predictif nous n'allons pas tenir compte de ça, car pour l'obtenir il faut le poids et la taille, tendisque le poids est notre cible. ce qui fait que la presence pour la construction du modele n'a pas d'importance.\n",
    "\n"
   ]
  },
  {
   "cell_type": "markdown",
   "metadata": {},
   "source": [
    "><h4>Importation de données</h4>"
   ]
  },
  {
   "cell_type": "code",
   "execution_count": 3,
   "metadata": {},
   "outputs": [],
   "source": [
    "# Nous importons  les données dans un ficher excel  en precisant la feuille contenant les données déja traitées\n",
    "data=pd.read_excel('taillepoidsetc.xls','Donnees_traités')"
   ]
  },
  {
   "cell_type": "code",
   "execution_count": 4,
   "metadata": {},
   "outputs": [
    {
     "data": {
      "text/plain": [
       "(1744, 7)"
      ]
     },
     "execution_count": 4,
     "metadata": {},
     "output_type": "execute_result"
    }
   ],
   "source": [
    "# Verifions la dimmension de notre dataset\n",
    "data.shape"
   ]
  },
  {
   "cell_type": "markdown",
   "metadata": {},
   "source": [
    ">Parmis les informations importantes à savoir sur un jeu de données pendant la preparation à l'analyse, ce verifier la presence ou non des valeurs manquantes\n",
    "car s'il y a presence de données manquantes, le model ne sera pas corect."
   ]
  },
  {
   "cell_type": "code",
   "execution_count": 5,
   "metadata": {},
   "outputs": [
    {
     "data": {
      "text/plain": [
       "age                   0\n",
       "sexe                  0\n",
       "poids_KG              0\n",
       "taille_CM             0\n",
       "Taille_M              0\n",
       "BodyMasseIndex_BMI    0\n",
       "contour               1\n",
       "dtype: int64"
      ]
     },
     "execution_count": 5,
     "metadata": {},
     "output_type": "execute_result"
    }
   ],
   "source": [
    "# Verifions les valeurs manquantes si elles existes  \n",
    "data.isnull().sum()"
   ]
  },
  {
   "cell_type": "code",
   "execution_count": 6,
   "metadata": {},
   "outputs": [],
   "source": [
    "# on remarque une donnée manquante sur la collone contour, veillons la supprimer.\n",
    "data=data.dropna()"
   ]
  },
  {
   "cell_type": "markdown",
   "metadata": {},
   "source": [
    "><h4 style='color:red'>Remarque:</h4> \n",
    "Pour resoudre le probleme de données manquante, il y a plusieurs paramettres qu'il faut tenir compte.\n",
    "\n",
    "1. Pour supprimeer les données  manquantes on doit necessairement tenir conte de la quantité d'informations qu'on veux supprimier. S'il ya plusieurs données manquantes dans une collone, ex 70% de l'echantillon, il sera question de se dire est ce que la variable en question est très informative pour notre projet? si oui on peut ramplacer les valeurs manquantes par la moyennes de données existante, si non on supprime carement la collone. on peut aussi ramplacer les données manquantes par plusieurs techniques qui existent.\n",
    "\n",
    "2. Si comme dans notre cas la quantité des données manquantes est très faible ex: 1 à 5 % de l'echantillon alors on peut carement supprimer les lignes de données manques. Pour nous, on avait 1744 après suppression d'une ligne on reste avec 1743 lignes de données. fantastique "
   ]
  },
  {
   "cell_type": "code",
   "execution_count": 7,
   "metadata": {},
   "outputs": [
    {
     "data": {
      "text/plain": [
       "age                   0\n",
       "sexe                  0\n",
       "poids_KG              0\n",
       "taille_CM             0\n",
       "Taille_M              0\n",
       "BodyMasseIndex_BMI    0\n",
       "contour               0\n",
       "dtype: int64"
      ]
     },
     "execution_count": 7,
     "metadata": {},
     "output_type": "execute_result"
    }
   ],
   "source": [
    "data.isnull().sum()"
   ]
  },
  {
   "cell_type": "code",
   "execution_count": 8,
   "metadata": {},
   "outputs": [
    {
     "data": {
      "text/plain": [
       "(1743, 7)"
      ]
     },
     "execution_count": 8,
     "metadata": {},
     "output_type": "execute_result"
    }
   ],
   "source": [
    "# voici nouvellement les données qu'on a appres suppression d'une ligne\n",
    "data.shape"
   ]
  },
  {
   "cell_type": "markdown",
   "metadata": {},
   "source": [
    "<h2 style=\"color:maroon\">2. Un peut de statistique </h2>"
   ]
  },
  {
   "cell_type": "markdown",
   "metadata": {},
   "source": [
    ">On peut observer le tableau synthetique sur les mesures statistique (mesures de tendance centrale et mesures de dispersion ) pour tirer de connaissance sur notre jeu de donné "
   ]
  },
  {
   "cell_type": "code",
   "execution_count": 9,
   "metadata": {},
   "outputs": [
    {
     "data": {
      "text/html": [
       "<div>\n",
       "<style scoped>\n",
       "    .dataframe tbody tr th:only-of-type {\n",
       "        vertical-align: middle;\n",
       "    }\n",
       "\n",
       "    .dataframe tbody tr th {\n",
       "        vertical-align: top;\n",
       "    }\n",
       "\n",
       "    .dataframe thead th {\n",
       "        text-align: right;\n",
       "    }\n",
       "</style>\n",
       "<table border=\"1\" class=\"dataframe\">\n",
       "  <thead>\n",
       "    <tr style=\"text-align: right;\">\n",
       "      <th></th>\n",
       "      <th>count</th>\n",
       "      <th>mean</th>\n",
       "      <th>std</th>\n",
       "      <th>min</th>\n",
       "      <th>25%</th>\n",
       "      <th>50%</th>\n",
       "      <th>75%</th>\n",
       "      <th>max</th>\n",
       "    </tr>\n",
       "  </thead>\n",
       "  <tbody>\n",
       "    <tr>\n",
       "      <td>age</td>\n",
       "      <td>1743.0</td>\n",
       "      <td>51.617326</td>\n",
       "      <td>16.370140</td>\n",
       "      <td>20.000000</td>\n",
       "      <td>39.00000</td>\n",
       "      <td>52.000000</td>\n",
       "      <td>65.000000</td>\n",
       "      <td>97.000000</td>\n",
       "    </tr>\n",
       "    <tr>\n",
       "      <td>sexe</td>\n",
       "      <td>1743.0</td>\n",
       "      <td>1.641997</td>\n",
       "      <td>0.479551</td>\n",
       "      <td>1.000000</td>\n",
       "      <td>1.00000</td>\n",
       "      <td>2.000000</td>\n",
       "      <td>2.000000</td>\n",
       "      <td>2.000000</td>\n",
       "    </tr>\n",
       "    <tr>\n",
       "      <td>poids_KG</td>\n",
       "      <td>1743.0</td>\n",
       "      <td>54.663282</td>\n",
       "      <td>12.657443</td>\n",
       "      <td>30.000000</td>\n",
       "      <td>46.00000</td>\n",
       "      <td>52.000000</td>\n",
       "      <td>61.000000</td>\n",
       "      <td>115.000000</td>\n",
       "    </tr>\n",
       "    <tr>\n",
       "      <td>taille_CM</td>\n",
       "      <td>1743.0</td>\n",
       "      <td>158.529776</td>\n",
       "      <td>8.422134</td>\n",
       "      <td>133.000000</td>\n",
       "      <td>153.00000</td>\n",
       "      <td>158.000000</td>\n",
       "      <td>164.000000</td>\n",
       "      <td>188.000000</td>\n",
       "    </tr>\n",
       "    <tr>\n",
       "      <td>Taille_M</td>\n",
       "      <td>1743.0</td>\n",
       "      <td>1.585298</td>\n",
       "      <td>0.084221</td>\n",
       "      <td>1.330000</td>\n",
       "      <td>1.53000</td>\n",
       "      <td>1.580000</td>\n",
       "      <td>1.640000</td>\n",
       "      <td>1.880000</td>\n",
       "    </tr>\n",
       "    <tr>\n",
       "      <td>BodyMasseIndex_BMI</td>\n",
       "      <td>1743.0</td>\n",
       "      <td>21.708241</td>\n",
       "      <td>4.560237</td>\n",
       "      <td>12.129337</td>\n",
       "      <td>18.62842</td>\n",
       "      <td>20.661157</td>\n",
       "      <td>23.634033</td>\n",
       "      <td>49.126404</td>\n",
       "    </tr>\n",
       "    <tr>\n",
       "      <td>contour</td>\n",
       "      <td>1743.0</td>\n",
       "      <td>79.139530</td>\n",
       "      <td>12.701390</td>\n",
       "      <td>57.000000</td>\n",
       "      <td>70.00000</td>\n",
       "      <td>76.000000</td>\n",
       "      <td>85.000000</td>\n",
       "      <td>205.000000</td>\n",
       "    </tr>\n",
       "  </tbody>\n",
       "</table>\n",
       "</div>"
      ],
      "text/plain": [
       "                     count        mean        std         min        25%  \\\n",
       "age                 1743.0   51.617326  16.370140   20.000000   39.00000   \n",
       "sexe                1743.0    1.641997   0.479551    1.000000    1.00000   \n",
       "poids_KG            1743.0   54.663282  12.657443   30.000000   46.00000   \n",
       "taille_CM           1743.0  158.529776   8.422134  133.000000  153.00000   \n",
       "Taille_M            1743.0    1.585298   0.084221    1.330000    1.53000   \n",
       "BodyMasseIndex_BMI  1743.0   21.708241   4.560237   12.129337   18.62842   \n",
       "contour             1743.0   79.139530  12.701390   57.000000   70.00000   \n",
       "\n",
       "                           50%         75%         max  \n",
       "age                  52.000000   65.000000   97.000000  \n",
       "sexe                  2.000000    2.000000    2.000000  \n",
       "poids_KG             52.000000   61.000000  115.000000  \n",
       "taille_CM           158.000000  164.000000  188.000000  \n",
       "Taille_M              1.580000    1.640000    1.880000  \n",
       "BodyMasseIndex_BMI   20.661157   23.634033   49.126404  \n",
       "contour              76.000000   85.000000  205.000000  "
      ]
     },
     "execution_count": 9,
     "metadata": {},
     "output_type": "execute_result"
    }
   ],
   "source": [
    "data.describe().T"
   ]
  },
  {
   "cell_type": "code",
   "execution_count": 10,
   "metadata": {},
   "outputs": [],
   "source": [
    "# definir les futures et target respectivement  X et Y\n",
    "x=data[['age','sexe','taille_CM','Taille_M','contour']]\n",
    "y=data[['poids_KG']]"
   ]
  },
  {
   "cell_type": "code",
   "execution_count": 11,
   "metadata": {},
   "outputs": [
    {
     "data": {
      "text/html": [
       "<div>\n",
       "<style scoped>\n",
       "    .dataframe tbody tr th:only-of-type {\n",
       "        vertical-align: middle;\n",
       "    }\n",
       "\n",
       "    .dataframe tbody tr th {\n",
       "        vertical-align: top;\n",
       "    }\n",
       "\n",
       "    .dataframe thead th {\n",
       "        text-align: right;\n",
       "    }\n",
       "</style>\n",
       "<table border=\"1\" class=\"dataframe\">\n",
       "  <thead>\n",
       "    <tr style=\"text-align: right;\">\n",
       "      <th></th>\n",
       "      <th>age</th>\n",
       "      <th>sexe</th>\n",
       "      <th>taille_CM</th>\n",
       "      <th>Taille_M</th>\n",
       "      <th>contour</th>\n",
       "    </tr>\n",
       "  </thead>\n",
       "  <tbody>\n",
       "    <tr>\n",
       "      <td>0</td>\n",
       "      <td>20</td>\n",
       "      <td>2</td>\n",
       "      <td>161.0</td>\n",
       "      <td>1.61</td>\n",
       "      <td>77.0</td>\n",
       "    </tr>\n",
       "    <tr>\n",
       "      <td>1</td>\n",
       "      <td>49</td>\n",
       "      <td>2</td>\n",
       "      <td>153.0</td>\n",
       "      <td>1.53</td>\n",
       "      <td>76.0</td>\n",
       "    </tr>\n",
       "    <tr>\n",
       "      <td>2</td>\n",
       "      <td>60</td>\n",
       "      <td>1</td>\n",
       "      <td>159.0</td>\n",
       "      <td>1.59</td>\n",
       "      <td>62.0</td>\n",
       "    </tr>\n",
       "  </tbody>\n",
       "</table>\n",
       "</div>"
      ],
      "text/plain": [
       "   age  sexe  taille_CM  Taille_M  contour\n",
       "0   20     2      161.0      1.61     77.0\n",
       "1   49     2      153.0      1.53     76.0\n",
       "2   60     1      159.0      1.59     62.0"
      ]
     },
     "execution_count": 11,
     "metadata": {},
     "output_type": "execute_result"
    }
   ],
   "source": [
    "x.head(3)"
   ]
  },
  {
   "cell_type": "code",
   "execution_count": 12,
   "metadata": {},
   "outputs": [
    {
     "data": {
      "text/plain": [
       "<matplotlib.collections.PathCollection at 0x7f0dbaf890f0>"
      ]
     },
     "execution_count": 12,
     "metadata": {},
     "output_type": "execute_result"
    },
    {
     "data": {
      "image/png": "[encoded data removed]",
      "text/plain": [
       "<Figure size 432x288 with 1 Axes>"
      ]
     },
     "metadata": {
      "needs_background": "light"
     },
     "output_type": "display_data"
    }
   ],
   "source": [
    "np.random.seed(0) # pour toujours reproduire le meme dataset\n",
    "x,y = make_regression(n_samples=1700, n_features=1, noise=10)\n",
    "plt.scatter(x, y) # afficher les résultats. X en abscisse et y en ordonnée"
   ]
  },
  {
   "cell_type": "code",
   "execution_count": 13,
   "metadata": {},
   "outputs": [
    {
     "name": "stdout",
     "output_type": "stream",
     "text": [
      "(1700, 1)\n"
     ]
    }
   ],
   "source": [
    "# redimensionnement de  y \n",
    "y = y.reshape(y.shape[0], 1)\n",
    "print(y.shape)"
   ]
  },
  {
   "cell_type": "code",
   "execution_count": 14,
   "metadata": {},
   "outputs": [
    {
     "name": "stdout",
     "output_type": "stream",
     "text": [
      "(1700, 2)\n"
     ]
    }
   ],
   "source": [
    "X = np.hstack((x, np.ones(x.shape)))\n",
    "print(X.shape)"
   ]
  },
  {
   "cell_type": "code",
   "execution_count": 15,
   "metadata": {},
   "outputs": [
    {
     "data": {
      "text/plain": [
       "array([[1.76405235],\n",
       "       [0.40015721]])"
      ]
     },
     "execution_count": 15,
     "metadata": {},
     "output_type": "execute_result"
    }
   ],
   "source": [
    "# on definit le vecteur parametre theta initialisé de maniere àleatoire   \n",
    "#  signalons que theta prend a et b , rappelons nous du fameux aX+b=Y\n",
    "np.random.seed(0) # pour produire toujours le meme vecteur theta aléatoire\n",
    "theta = np.random.randn(2, 1)\n",
    "theta"
   ]
  },
  {
   "cell_type": "code",
   "execution_count": 16,
   "metadata": {},
   "outputs": [],
   "source": [
    "# on crée un model \n",
    "def model(X, theta):\n",
    "    return X.dot(theta)"
   ]
  },
  {
   "cell_type": "code",
   "execution_count": 28,
   "metadata": {},
   "outputs": [
    {
     "data": {
      "text/plain": [
       "[<matplotlib.lines.Line2D at 0x7f0dbaa4aa20>]"
      ]
     },
     "execution_count": 28,
     "metadata": {},
     "output_type": "execute_result"
    },
    {
     "data": {
      "image/png": "[encoded data removed]",
      "text/plain": [
       "<Figure size 432x288 with 1 Axes>"
      ]
     },
     "metadata": {
      "needs_background": "light"
     },
     "output_type": "display_data"
    }
   ],
   "source": [
    "\n",
    "# visualisation  du resultat\n",
    "plt.scatter(x, y)\n",
    "plt.plot(x, model(X, theta), c='m')"
   ]
  },
  {
   "cell_type": "markdown",
   "metadata": {},
   "source": [
    "\n",
    "# la fonction coût ou erreur\n",
    "\n",
    "$ J(\\theta) = \\frac{1}{2m} \\sum (X.\\theta - y)^2 $"
   ]
  },
  {
   "cell_type": "code",
   "execution_count": 31,
   "metadata": {},
   "outputs": [],
   "source": [
    "def cout(X, y, theta):\n",
    "    c = len(y)\n",
    "    return 1/(2*c) * np.sum((model(X, theta) - y)**2)"
   ]
  },
  {
   "cell_type": "code",
   "execution_count": 32,
   "metadata": {},
   "outputs": [
    {
     "data": {
      "text/plain": [
       "2980.2349447924316"
      ]
     },
     "execution_count": 32,
     "metadata": {},
     "output_type": "execute_result"
    }
   ],
   "source": [
    "cout(X, y, theta)"
   ]
  },
  {
   "cell_type": "markdown",
   "metadata": {},
   "source": [
    "calcul du graduant \n",
    "\n",
    "$\\frac{\\partial J(\\theta) }{\\partial \\theta} = \\frac{1}{m} X^T.(X.\\theta - y)$\n",
    "\n",
    "faire de la descente du gradient\n",
    "\n",
    "$\\theta = \\theta - \\alpha \\frac{\\partial J(\\theta) }{\\partial \\theta}$\n"
   ]
  },
  {
   "cell_type": "code",
   "execution_count": 33,
   "metadata": {},
   "outputs": [],
   "source": [
    "# calcul du gradient\n",
    "def g(X, y, theta):\n",
    "    c = len(y)\n",
    "    return 1/c * X.T.dot(model(X, theta) - y)"
   ]
  },
  {
   "cell_type": "code",
   "execution_count": 46,
   "metadata": {},
   "outputs": [],
   "source": [
    "# la descente du gradient\n",
    "def gd(X, y, theta, learning_rate, epoch):\n",
    "    \n",
    "    cost_history = np.zeros(epoch) # evaluation du coût\n",
    "    \n",
    "    for i in range(0, epoch):\n",
    "        theta = theta - learning_rate * g(X, y, theta) # mise a jour du parametre theta\n",
    "        cost_history[i] = cout(X, y, theta) \n",
    "        \n",
    "    return theta, cost_history"
   ]
  },
  {
   "cell_type": "code",
   "execution_count": 47,
   "metadata": {},
   "outputs": [],
   "source": [
    "# entrenaiment du model\n",
    "epoch = 1000 #iterations\n",
    "learning_rate = 0.01 \n",
    "theta_final, cost_history = gd(X, y, theta, learning_rate, epoch)"
   ]
  },
  {
   "cell_type": "code",
   "execution_count": 48,
   "metadata": {},
   "outputs": [
    {
     "data": {
      "text/plain": [
       "array([[79.87902243],\n",
       "       [-0.17643196]])"
      ]
     },
     "execution_count": 48,
     "metadata": {},
     "output_type": "execute_result"
    }
   ],
   "source": [
    "theta_final # les bons paramettres retenus "
   ]
  },
  {
   "cell_type": "code",
   "execution_count": 39,
   "metadata": {},
   "outputs": [
    {
     "data": {
      "text/plain": [
       "[<matplotlib.lines.Line2D at 0x7f0dba8f4128>]"
      ]
     },
     "execution_count": 39,
     "metadata": {},
     "output_type": "execute_result"
    },
    {
     "data": {
      "image/png": "[encoded data removed]",
      "text/plain": [
       "<Figure size 432x288 with 1 Axes>"
      ]
     },
     "metadata": {
      "needs_background": "light"
     },
     "output_type": "display_data"
    }
   ],
   "source": [
    "#Affichage de resultat\n",
    "predictions = model(X, theta_final)\n",
    "plt.scatter(x, y)\n",
    "plt.plot(x, predictions, c='m')"
   ]
  },
  {
   "cell_type": "markdown",
   "metadata": {},
   "source": []
  },
  {
   "cell_type": "code",
   "execution_count": 49,
   "metadata": {},
   "outputs": [
    {
     "data": {
      "text/plain": [
       "[<matplotlib.lines.Line2D at 0x7f0dba83d080>]"
      ]
     },
     "execution_count": 49,
     "metadata": {},
     "output_type": "execute_result"
    },
    {
     "data": {
      "image/png": "[encoded data removed]",
      "text/plain": [
       "<Figure size 432x288 with 1 Axes>"
      ]
     },
     "metadata": {
      "needs_background": "light"
     },
     "output_type": "display_data"
    }
   ],
   "source": [
    "#observons l'evolution de l'apprentissage en evaluant la fonction coût, on remarque la stabilité à partir de 250 Iterations \n",
    "plt.plot(range(epoch), cost_history)"
   ]
  },
  {
   "cell_type": "code",
   "execution_count": 51,
   "metadata": {},
   "outputs": [],
   "source": [
    "# Evaluons la performance du model avec le coefficient de determination  ici\n",
    "def coef_determination(y, pred):\n",
    "    u = ((y - pred)**2).sum()\n",
    "    v = ((y - y.mean())**2).sum()\n",
    "    return 1 - u/v"
   ]
  },
  {
   "cell_type": "code",
   "execution_count": 53,
   "metadata": {},
   "outputs": [
    {
     "data": {
      "text/plain": [
       "0.9843881798336543"
      ]
     },
     "execution_count": 53,
     "metadata": {},
     "output_type": "execute_result"
    }
   ],
   "source": [
    "# on obtiens 98 pourcents de succès\n",
    "coef_determination(y, predictions)"
   ]
  }
 ],
 "metadata": {
  "kernelspec": {
   "display_name": "Python 3",
   "language": "python",
   "name": "python3"
  },
  "language_info": {
   "codemirror_mode": {
    "name": "ipython",
    "version": 3
   },
   "file_extension": ".py",
   "mimetype": "text/x-python",
   "name": "python",
   "nbconvert_exporter": "python",
   "pygments_lexer": "ipython3",
   "version": "3.7.3"
  }
 },
 "nbformat": 4,
 "nbformat_minor": 2
}
